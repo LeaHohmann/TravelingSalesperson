{
 "cells": [
  {
   "cell_type": "code",
   "execution_count": 12,
   "metadata": {},
   "outputs": [],
   "source": [
    "import numpy as np\n",
    "import pandas as pd"
   ]
  },
  {
   "cell_type": "code",
   "execution_count": 4,
   "metadata": {},
   "outputs": [],
   "source": [
    "def shorteststeps(inputdata,i,cityvector):\n",
    "    TSP = inputdata.copy()\n",
    "    pathlength = 0\n",
    "    node = cityvector[i]\n",
    "    route = list([node])\n",
    "    for j in range(len(cityvector)-1):\n",
    "        pathlength += TSP[node].min()\n",
    "        route.append(TSP[node].idxmin())\n",
    "        TSP.loc[node,:] = np.nan\n",
    "        node = route[j+1]\n",
    "        j += 1\n",
    "    return route, pathlength\n"
   ]
  },
  {
   "cell_type": "code",
   "execution_count": 1,
   "metadata": {},
   "outputs": [],
   "source": [
    "def findbestroute(inputdata):\n",
    "    cityvector = np.array(inputdata.index)\n",
    "    distance = 10000000\n",
    "    for i in range(len(cityvector)):\n",
    "        route, pathlength = shorteststeps(inputdata,i,cityvector)\n",
    "        if pathlength < distance:\n",
    "            distance = pathlength\n",
    "            bestroute = route\n",
    "        i += 1    \n",
    "    return bestroute, distance\n",
    "        "
   ]
  },
  {
   "cell_type": "code",
   "execution_count": null,
   "metadata": {},
   "outputs": [],
   "source": []
  },
  {
   "cell_type": "code",
   "execution_count": null,
   "metadata": {},
   "outputs": [],
   "source": []
  }
 ],
 "metadata": {
  "kernelspec": {
   "display_name": "Python 3",
   "language": "python",
   "name": "python3"
  },
  "language_info": {
   "codemirror_mode": {
    "name": "ipython",
    "version": 3
   },
   "file_extension": ".py",
   "mimetype": "text/x-python",
   "name": "python",
   "nbconvert_exporter": "python",
   "pygments_lexer": "ipython3",
   "version": "3.7.6"
  }
 },
 "nbformat": 4,
 "nbformat_minor": 4
}
