{
 "cells": [
  {
   "cell_type": "code",
   "execution_count": 12,
   "metadata": {},
   "outputs": [],
   "source": [
    "import numpy as np\n",
    "import pandas as pd"
   ]
  },
  {
   "cell_type": "code",
   "execution_count": 4,
   "metadata": {},
   "outputs": [],
   "source": [
    "def nearestneighbour(inputdata,i,cityvector):\n",
    "    \"\"\"\n",
    "    Finds a route by nearest neighbour algorithm for given starting point\n",
    "    \n",
    "    Finds the nearest still available (non-NaN) index in the matrix by searching for its column minimum, adds the index to the tour and the distance to tour length.\n",
    "    Then replaces its own row by NaN and hands over to next stop it chose.\n",
    "    \n",
    "    Parameters\n",
    "    ---------\n",
    "    inputdata: Pandas DataFrame\n",
    "               Matrix of symmetric TSP. Passed from findbestroute function\n",
    "    i: integer\n",
    "       Index position of starting point, passed from findbestroute function (iterator in findbestroute)\n",
    "    cityvector: Vector of strings\n",
    "                Vector containing the indices (nodes/\"cities\") of the data matrix, passed from findbestroute\n",
    "    \n",
    "    Returns\n",
    "    ------\n",
    "    route: Vector of strings\n",
    "           Vector of indices in order of nearest neighbour route\n",
    "    pathlengths: Float\n",
    "                 Distance travelled by the nearest neighbour route\n",
    "    \"\"\"\n",
    "    \n",
    "    TSP = inputdata.copy()\n",
    "    pathlength = 0\n",
    "    node = cityvector[i]\n",
    "    route = list([node])\n",
    "    \n",
    "    for j in range(len(cityvector)-1):\n",
    "        pathlength += TSP[node].min()\n",
    "        route.append(TSP[node].idxmin())\n",
    "        TSP.loc[node,:] = np.nan\n",
    "        node = route[j+1]\n",
    "        j += 1\n",
    "        \n",
    "    return route, pathlength\n"
   ]
  },
  {
   "cell_type": "code",
   "execution_count": 1,
   "metadata": {},
   "outputs": [],
   "source": [
    "def findbestroute(inputdata,distance):\n",
    "    \"\"\"\n",
    "    Iterates through different starting points for nearest neighbour and finds the shortest.\n",
    "    \n",
    "    Iterates through all indices of the data matrix and calls nearestneighbour on this starting point to find the nearest neighbour route, keeps the shortest.\n",
    "    \n",
    "    Parameters\n",
    "    ---------\n",
    "    inputdata: Pandas DataFrame\n",
    "               Data matrix of the symmetric TSP, passed from salesman.salesman (or import from file with salesman.dataimport)\n",
    "    distance: Float\n",
    "              Longest possible distance (upper limit), passed from salesman.salesman\n",
    "               \n",
    "    Returns\n",
    "    ------\n",
    "    bestroute: Vector of strings\n",
    "               Vector of data matrix indices in the order of shortest route it could find with this method\n",
    "    distance:  Float\n",
    "               Distance travelled by the output route\n",
    "    \"\"\"\n",
    "    \n",
    "    cityvector = np.array(inputdata.index)\n",
    "    \n",
    "    for i in range(len(cityvector)):\n",
    "        route, pathlength = nearestneighbour(inputdata,i,cityvector)\n",
    "        if pathlength < distance:\n",
    "            distance = pathlength\n",
    "            bestroute = route\n",
    "        i += 1   \n",
    "        \n",
    "    return bestroute, distance\n",
    "        "
   ]
  },
  {
   "cell_type": "code",
   "execution_count": null,
   "metadata": {},
   "outputs": [],
   "source": []
  },
  {
   "cell_type": "code",
   "execution_count": null,
   "metadata": {},
   "outputs": [],
   "source": []
  }
 ],
 "metadata": {
  "kernelspec": {
   "display_name": "Python 3",
   "language": "python",
   "name": "python3"
  },
  "language_info": {
   "codemirror_mode": {
    "name": "ipython",
    "version": 3
   },
   "file_extension": ".py",
   "mimetype": "text/x-python",
   "name": "python",
   "nbconvert_exporter": "python",
   "pygments_lexer": "ipython3",
   "version": "3.7.6"
  }
 },
 "nbformat": 4,
 "nbformat_minor": 4
}
