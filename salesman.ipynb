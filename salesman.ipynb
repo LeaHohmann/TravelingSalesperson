{
 "cells": [
  {
   "cell_type": "code",
   "execution_count": 16,
   "metadata": {},
   "outputs": [],
   "source": [
    "import numpy as np\n",
    "import pandas as pd"
   ]
  },
  {
   "cell_type": "code",
   "execution_count": 17,
   "metadata": {},
   "outputs": [],
   "source": [
    "#Load Data\n",
    "data = pd.read_csv('eurotripdataset.csv',sep=';',index_col=0,engine='python')"
   ]
  },
  {
   "cell_type": "code",
   "execution_count": 18,
   "metadata": {},
   "outputs": [
    {
     "name": "stdout",
     "output_type": "stream",
     "text": [
      "Exact method will be used\n",
      "['Praha' 'Berlin' 'Tallinn' 'Stockholm' 'Paris' 'Lisboa' 'Madrid' 'Rome']\n"
     ]
    }
   ],
   "source": [
    "if data.size <= 64:\n",
    "    print(\"Exact method will be used\")\n",
    "    from exact import shortestpath\n",
    "    #import pdb; pdb.set_trace()\n",
    "    shortestpath(data)\n",
    "else:\n",
    "    #Load approximation method\n",
    "    print(\"I will use an approximation method as the dataset is large\")\n"
   ]
  },
  {
   "cell_type": "code",
   "execution_count": null,
   "metadata": {},
   "outputs": [],
   "source": []
  },
  {
   "cell_type": "code",
   "execution_count": null,
   "metadata": {},
   "outputs": [],
   "source": []
  }
 ],
 "metadata": {
  "kernelspec": {
   "display_name": "Python 3",
   "language": "python",
   "name": "python3"
  },
  "language_info": {
   "codemirror_mode": {
    "name": "ipython",
    "version": 3
   },
   "file_extension": ".py",
   "mimetype": "text/x-python",
   "name": "python",
   "nbconvert_exporter": "python",
   "pygments_lexer": "ipython3",
   "version": "3.7.6"
  }
 },
 "nbformat": 4,
 "nbformat_minor": 4
}
