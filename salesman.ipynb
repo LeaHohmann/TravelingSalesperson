{
 "cells": [
  {
   "cell_type": "code",
   "execution_count": 5,
   "metadata": {},
   "outputs": [],
   "source": [
    "import numpy as np\n",
    "import pandas as pd"
   ]
  },
  {
   "cell_type": "code",
   "execution_count": 6,
   "metadata": {},
   "outputs": [],
   "source": [
    "def dataimport(filename):\n",
    "    \"\"\"\n",
    "    Imports data matrix from filename\n",
    "    \n",
    "    Parameters\n",
    "    ----------\n",
    "    filename: CSV file\n",
    "              File should contain the (symmetric) data matrix with nodes/(\"cities\") as column and row indices (as first row/column)\n",
    "              \n",
    "    Returns\n",
    "    ------\n",
    "    data: Pandas DataFrame\n",
    "    \n",
    "    \"\"\"\n",
    "    \n",
    "    data = pd.read_csv(filename,sep=';',index_col=0,engine='python')\n",
    "    return data"
   ]
  },
  {
   "cell_type": "code",
   "execution_count": 7,
   "metadata": {
    "scrolled": true
   },
   "outputs": [],
   "source": [
    "def salesman(filename):\n",
    "    \"\"\"\n",
    "    Finds best possible solution to the input symmetric TSP, either by exact calculation or a nearest-neighbour method\n",
    "    \n",
    "    Uses dataimport to import the data matrix, checks the size of the data matrix. \n",
    "    For problems with 8 or fewer nodes it calls the shortestpath function from exact to calculate exact solution.\n",
    "    For problems with more than 8 nodes it calls the findbestroute function from heuristic to calculate the best possible solution available to the nearest neighbour algorithm.\n",
    "    In the latter case, it calculates the lower and upper limit and mean path and prints them for comparison.\n",
    "    \n",
    "    Parameters\n",
    "    ---------\n",
    "    filename: CSV file \n",
    "              See dataimport\n",
    "              \n",
    "    Returns\n",
    "    ------\n",
    "    shortest: Vector or list of strings (nodes/cities)\n",
    "              Indices of data in order of shortest route\n",
    "              Either absolute shortest route or shortest route it could find for problems greater 8\n",
    "    distance: Float\n",
    "              Distance travelled by shortest route\n",
    "    \"\"\"\n",
    "    data = dataimport(filename)\n",
    "    Maxlength = 0\n",
    "    for i in range(len(data)):\n",
    "        Maxlength +=data.iloc[:,i].max()\n",
    "    \n",
    "    if data.size <= 64:\n",
    "        print(\"Exact method will be used\")\n",
    "        #Load exact method\n",
    "        from exact import shortestpath\n",
    "        distance, shortest = shortestpath(data,Maxlength)\n",
    "        print(\"Shortest path: \", shortest)\n",
    "        print(\"Length: \", distance)\n",
    "        \n",
    "    else:\n",
    "        print(\"I will use a heuristic method to find a best guess as the dataset is larger than 8\")\n",
    "        from heuristic import findbestroute\n",
    "        shortest, distance = findbestroute(data,Maxlength)\n",
    "        print(\"This is the shortest route I could find with the nearest neighbour method: \", shortest)\n",
    "        print(\"Length: \", distance)\n",
    "    \n",
    "        print(\"Here is how it compares:\")\n",
    "        Minlength = 0\n",
    "        for i in range(len(data)):\n",
    "            Minlength +=data.iloc[:,i].min()\n",
    "        print(\"Sum of distances from each city to nearest neighbour: \",Minlength)\n",
    "        print(\"Sum of distances from each city to farthest neighbour: \",Maxlength)\n",
    "        Average = len(data)*data.mean().mean()\n",
    "        print(\"Average distance of random tour: \",Average)\n",
    "        \n",
    "    return shortest,distance\n"
   ]
  },
  {
   "cell_type": "code",
   "execution_count": 8,
   "metadata": {},
   "outputs": [
    {
     "name": "stdout",
     "output_type": "stream",
     "text": [
      "I will use a heuristic method to find a best guess as the dataset is larger than 8\n",
      "This is the shortest route I could find with the nearest neighbour method:  ['Stockholm', 'Sollentuna', 'Uppsala', 'Vasteras', 'Orebro', 'Linkoping', 'Jonkoping', 'Goteborg', 'Helsingborg', 'Malmo']\n",
      "Length:  916.0\n",
      "Here is how it compares:\n",
      "Sum of distances from each city to nearest neighbour:  785.0\n",
      "Sum of distances from each city to farthest neighbour:  5551.0\n",
      "Average distance of random tour:  3050.8888888888887\n"
     ]
    }
   ],
   "source": []
  },
  {
   "cell_type": "code",
   "execution_count": null,
   "metadata": {},
   "outputs": [],
   "source": []
  },
  {
   "cell_type": "code",
   "execution_count": null,
   "metadata": {},
   "outputs": [],
   "source": []
  },
  {
   "cell_type": "code",
   "execution_count": null,
   "metadata": {},
   "outputs": [],
   "source": []
  }
 ],
 "metadata": {
  "kernelspec": {
   "display_name": "Python 3",
   "language": "python",
   "name": "python3"
  },
  "language_info": {
   "codemirror_mode": {
    "name": "ipython",
    "version": 3
   },
   "file_extension": ".py",
   "mimetype": "text/x-python",
   "name": "python",
   "nbconvert_exporter": "python",
   "pygments_lexer": "ipython3",
   "version": "3.7.6"
  }
 },
 "nbformat": 4,
 "nbformat_minor": 4
}
