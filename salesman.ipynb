{
 "cells": [
  {
   "cell_type": "code",
   "execution_count": 3,
   "metadata": {},
   "outputs": [],
   "source": [
    "import numpy as np\n",
    "import pandas as pd"
   ]
  },
  {
   "cell_type": "code",
   "execution_count": 4,
   "metadata": {},
   "outputs": [],
   "source": [
    "def dataimport(filename):\n",
    "    #filename should be CSV with symmetric matrix of the TSP\n",
    "    data = pd.read_csv(filename,sep=';',index_col=0,engine='python')\n",
    "    return data"
   ]
  },
  {
   "cell_type": "code",
   "execution_count": 5,
   "metadata": {
    "scrolled": true
   },
   "outputs": [],
   "source": [
    "def salesman(filename):\n",
    "    data = dataimport(filename)\n",
    "    if data.size <= 64:\n",
    "        print(\"Exact method will be used\")\n",
    "        #Load exact method\n",
    "        from exact import shortestpath\n",
    "        distance, shortest = shortestpath(data)\n",
    "        print(\"Shortest path: \", shortest)\n",
    "        print(\"Length: \", distance)\n",
    "    else:\n",
    "        print(\"I will use a heuristic method to find a best guess as the dataset is larger than 8\")\n",
    "        #Load heuristic method\n",
    "        from heuristic import findbestroute\n",
    "        shortest, distance = findbestroute(data)\n",
    "        print(\"This is the shortest route I could find with the nearest neighbour method: \", shortest)\n",
    "        print(\"Length: \", distance)\n",
    "    \n",
    "        #Compare to average, lower limit and upper limit\n",
    "        print(\"Here is how it compares:\")\n",
    "        Minlength = 0\n",
    "        for i in range(len(data)):\n",
    "            Minlength +=data.iloc[:,i].min()\n",
    "        print(\"Sum of distances from each city to nearest neighbour: \",Minlength)\n",
    "        Maxlength = 0\n",
    "        for i in range(len(data)):\n",
    "            Maxlength +=data.iloc[:,i].max()\n",
    "        print(\"Sum of distances from each city to farthest neighbour: \",Maxlength)\n",
    "        Average = len(data)*data.mean().mean()\n",
    "        print(\"Average distance of random tour: \",Average)\n",
    "    return shortest,distance\n"
   ]
  },
  {
   "cell_type": "code",
   "execution_count": 6,
   "metadata": {},
   "outputs": [
    {
     "name": "stdout",
     "output_type": "stream",
     "text": [
      "I will use a heuristic method to find a best guess as the dataset is larger than 8\n",
      "This is the shortest route I could find with the nearest neighbour method:  ['Stockholm', 'Sollentuna', 'Uppsala', 'Vasteras', 'Orebro', 'Linkoping', 'Jonkoping', 'Goteborg', 'Helsingborg', 'Malmo']\n",
      "Length:  916.0\n",
      "Here is how it compares:\n",
      "Sum of distances from each city to nearest neighbour:  785.0\n",
      "Sum of distances from each city to farthest neighbour:  5551.0\n",
      "Average distance of random tour:  3050.8888888888887\n"
     ]
    }
   ],
   "source": [
    "#Import salesman and call with salesman.salesman(filename). Filename needs to be CSV and contain a symmetric matrix including the row and column indices!"
   ]
  },
  {
   "cell_type": "code",
   "execution_count": null,
   "metadata": {},
   "outputs": [],
   "source": []
  },
  {
   "cell_type": "code",
   "execution_count": null,
   "metadata": {},
   "outputs": [],
   "source": []
  },
  {
   "cell_type": "code",
   "execution_count": null,
   "metadata": {},
   "outputs": [],
   "source": []
  }
 ],
 "metadata": {
  "kernelspec": {
   "display_name": "Python 3",
   "language": "python",
   "name": "python3"
  },
  "language_info": {
   "codemirror_mode": {
    "name": "ipython",
    "version": 3
   },
   "file_extension": ".py",
   "mimetype": "text/x-python",
   "name": "python",
   "nbconvert_exporter": "python",
   "pygments_lexer": "ipython3",
   "version": "3.7.6"
  }
 },
 "nbformat": 4,
 "nbformat_minor": 4
}
