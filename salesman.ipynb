{
 "cells": [
  {
   "cell_type": "code",
   "execution_count": 1,
   "metadata": {},
   "outputs": [],
   "source": [
    "import numpy as np\n",
    "import pandas as pd"
   ]
  },
  {
   "cell_type": "code",
   "execution_count": 4,
   "metadata": {},
   "outputs": [],
   "source": [
    "#Load Data\n",
    "data = pd.read_csv('germanydataset.csv',sep=';',index_col=0,engine='python')"
   ]
  },
  {
   "cell_type": "code",
   "execution_count": 5,
   "metadata": {},
   "outputs": [
    {
     "name": "stdout",
     "output_type": "stream",
     "text": [
      "I will use an approximation method as the dataset is larger than 8\n"
     ]
    },
    {
     "ename": "SyntaxError",
     "evalue": "invalid syntax (approximation.py, line 18)",
     "output_type": "error",
     "traceback": [
      "Traceback \u001b[1;36m(most recent call last)\u001b[0m:\n",
      "  File \u001b[0;32m\"C:\\Users\\lhohmann\\Anaconda3\\lib\\site-packages\\IPython\\core\\interactiveshell.py\"\u001b[0m, line \u001b[0;32m3331\u001b[0m, in \u001b[0;35mrun_code\u001b[0m\n    exec(code_obj, self.user_global_ns, self.user_ns)\n",
      "\u001b[1;36m  File \u001b[1;32m\"<ipython-input-5-a3d4c205df4e>\"\u001b[1;36m, line \u001b[1;32m11\u001b[1;36m, in \u001b[1;35m<module>\u001b[1;36m\u001b[0m\n\u001b[1;33m    from approximation import findbestroute\u001b[0m\n",
      "\u001b[1;36m  File \u001b[1;32m\"C:\\Users\\lhohmann\\Documents\\Courses\\Python\\TravelingSalesperson\\approximation.py\"\u001b[1;36m, line \u001b[1;32m18\u001b[0m\n\u001b[1;33m    For j in range(len(indexvector)-1):\u001b[0m\n\u001b[1;37m        ^\u001b[0m\n\u001b[1;31mSyntaxError\u001b[0m\u001b[1;31m:\u001b[0m invalid syntax\n"
     ]
    }
   ],
   "source": [
    "if data.size <= 64:\n",
    "    print(\"Exact method will be used\")\n",
    "    from exact import shortestpath\n",
    "    #import pdb; pdb.set_trace()\n",
    "    distance, shortest = shortestpath(data)\n",
    "    print(\"Shortest path: \", shortest)\n",
    "    print(\"Length: \", distance)\n",
    "else:\n",
    "    #Load approximation method\n",
    "    print(\"I will use an approximation method as the dataset is larger than 8\")\n",
    "    from approximation import findbestroute\n",
    "    bestroute, distance = findbestroute(data)\n",
    "    print(\"This is the shortest route I could find with the shortest step method: \", bestroute)\n",
    "    print(\"Length: \", distance)\n",
    "    \n"
   ]
  },
  {
   "cell_type": "code",
   "execution_count": null,
   "metadata": {},
   "outputs": [],
   "source": []
  },
  {
   "cell_type": "code",
   "execution_count": null,
   "metadata": {},
   "outputs": [],
   "source": []
  }
 ],
 "metadata": {
  "kernelspec": {
   "display_name": "Python 3",
   "language": "python",
   "name": "python3"
  },
  "language_info": {
   "codemirror_mode": {
    "name": "ipython",
    "version": 3
   },
   "file_extension": ".py",
   "mimetype": "text/x-python",
   "name": "python",
   "nbconvert_exporter": "python",
   "pygments_lexer": "ipython3",
   "version": "3.7.6"
  }
 },
 "nbformat": 4,
 "nbformat_minor": 4
}
