{
 "cells": [
  {
   "cell_type": "code",
   "execution_count": null,
   "metadata": {},
   "outputs": [],
   "source": [
    "from itertools import permutations\n",
    "import numpy as np\n",
    "import pandas as pd\n",
    "    "
   ]
  },
  {
   "cell_type": "code",
   "execution_count": null,
   "metadata": {},
   "outputs": [],
   "source": [
    "def shortestpath(inputdataframe):\n",
    "    pathvector = np.array(inputdataframe.index)\n",
    "    permutating_vector = pathvector[:-1]\n",
    "    distance = 1000000\n",
    "    for permutating_path in permutations(permutating_vector,len(permutating_vector)):\n",
    "        path = np.append(permutating_path,pathvector[-1])\n",
    "        rearrangeddata = inputdataframe.reindex(path,axis='columns')\n",
    "        rolledpath = np.roll(path,len(path)-1)\n",
    "        rearrangeddata = rearrangeddata.reindex(rolledpath,axis='index')\n",
    "        pathlength = np.sum(np.diagonal(rearrangeddata))\n",
    "        if pathlength < distance:\n",
    "                distance = pathlength\n",
    "                shortest = path \n",
    "    return distance, shortest\n",
    "            \n",
    "\n",
    "        "
   ]
  }
 ],
 "metadata": {
  "kernelspec": {
   "display_name": "Python 3",
   "language": "python",
   "name": "python3"
  },
  "language_info": {
   "codemirror_mode": {
    "name": "ipython",
    "version": 3
   },
   "file_extension": ".py",
   "mimetype": "text/x-python",
   "name": "python",
   "nbconvert_exporter": "python",
   "pygments_lexer": "ipython3",
   "version": "3.7.6"
  }
 },
 "nbformat": 4,
 "nbformat_minor": 4
}
