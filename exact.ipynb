{
 "cells": [
  {
   "cell_type": "code",
   "execution_count": null,
   "metadata": {},
   "outputs": [],
   "source": [
    "from itertools import permutations\n",
    "import numpy as np\n",
    "import pandas as pd\n",
    "    "
   ]
  },
  {
   "cell_type": "code",
   "execution_count": null,
   "metadata": {},
   "outputs": [],
   "source": [
    "def shortestpath(inputdataframe,distance):\n",
    "    \"\"\"\n",
    "    Calculates shortest path from data matrix with symmetric TSP analytically\n",
    "    \n",
    "    Finds shortest path by iterating through all possible paths and keeping the shortest one.\n",
    "    Uses the vector of indices of the data matrix as a path vector and permutates it, calculates the distance and compares to the previous value, then keeps the shorter one.\n",
    "    \n",
    "    Parameters\n",
    "    ---------\n",
    "    inpudataframe: Pandas DataFrame\n",
    "                   Passed from salesman.salesman function (or use the salesman.dataimport function to retrieve it from file)\n",
    "    distance: Float\n",
    "              Maximum possible route length, passed from salesman.salesman\n",
    "                   \n",
    "    Returns\n",
    "    ------\n",
    "    shortest: Vector of strings\n",
    "              Indices of inputdataframe in order of shortest route\n",
    "    distance: Float\n",
    "              Distance travelled by shortest route\n",
    "    \n",
    "    \"\"\"\n",
    "    pathvector = np.array(inputdataframe.index)\n",
    "    permutating_vector = pathvector[:-1]\n",
    "    \n",
    "    for permutating_path in permutations(permutating_vector,len(permutating_vector)):\n",
    "        path = np.append(permutating_path,pathvector[-1])\n",
    "        rearrangeddata = inputdataframe.reindex(path,axis='columns')\n",
    "        rolledpath = np.roll(path,len(path)-1)\n",
    "        rearrangeddata = rearrangeddata.reindex(rolledpath,axis='index')\n",
    "        pathlength = np.sum(np.diagonal(rearrangeddata))\n",
    "        if pathlength < distance:\n",
    "                distance = pathlength\n",
    "                shortest = path \n",
    "                \n",
    "    return distance, shortest\n",
    "            \n",
    "\n",
    "        "
   ]
  }
 ],
 "metadata": {
  "kernelspec": {
   "display_name": "Python 3",
   "language": "python",
   "name": "python3"
  },
  "language_info": {
   "codemirror_mode": {
    "name": "ipython",
    "version": 3
   },
   "file_extension": ".py",
   "mimetype": "text/x-python",
   "name": "python",
   "nbconvert_exporter": "python",
   "pygments_lexer": "ipython3",
   "version": "3.7.6"
  }
 },
 "nbformat": 4,
 "nbformat_minor": 4
}
