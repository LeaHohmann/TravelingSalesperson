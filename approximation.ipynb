{
 "cells": [
  {
   "cell_type": "code",
   "execution_count": null,
   "metadata": {},
   "outputs": [],
   "source": [
    "import numpy as np\n",
    "import pandas as pd"
   ]
  },
  {
   "cell_type": "code",
   "execution_count": 2,
   "metadata": {},
   "outputs": [],
   "source": [
    "def shorteststeps(inputdata,i,indexvector):\n",
    "    length = 0\n",
    "    x = i\n",
    "    path = np.zeros(len(indexvector))\n",
    "    For j in range(len(indexvector)-1):\n",
    "        pathlength += inputdata[x].min()\n",
    "        path[j] = inputdata[x].idxmin()\n",
    "        inputdata[x:x+1] = np.nan\n",
    "        x = np.where(cityvector == path[j])\n",
    "        j +=1\n",
    "    return path, pathlength\n",
    "\n",
    "        \n"
   ]
  },
  {
   "cell_type": "code",
   "execution_count": null,
   "metadata": {},
   "outputs": [],
   "source": [
    "def findbestroute(inputdata):\n",
    "    cityvector = np.array(inputdata.index)\n",
    "    distance = 10000000\n",
    "    For i in range(len(cityvector)):\n",
    "        path, pathlength = shorteststeps(inputdata,i,cityvector)\n",
    "        if pathlength < distance:\n",
    "            distance = pathlength\n",
    "            bestroute = path\n",
    "        i += 1\n",
    "    return bestroute, distance\n",
    "        "
   ]
  }
 ],
 "metadata": {
  "kernelspec": {
   "display_name": "Python 3",
   "language": "python",
   "name": "python3"
  },
  "language_info": {
   "codemirror_mode": {
    "name": "ipython",
    "version": 3
   },
   "file_extension": ".py",
   "mimetype": "text/x-python",
   "name": "python",
   "nbconvert_exporter": "python",
   "pygments_lexer": "ipython3",
   "version": "3.7.6"
  }
 },
 "nbformat": 4,
 "nbformat_minor": 4
}
